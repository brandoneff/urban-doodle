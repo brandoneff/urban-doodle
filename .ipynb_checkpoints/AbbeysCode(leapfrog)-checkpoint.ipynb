{
 "cells": [
  {
   "cell_type": "code",
   "execution_count": 2,
   "metadata": {},
   "outputs": [],
   "source": [
    "import numpy as np\n",
    "from matplotlib import pyplot as plt "
   ]
  },
  {
   "cell_type": "code",
   "execution_count": 5,
   "metadata": {},
   "outputs": [],
   "source": [
    "k = 1 # constant\n",
    "x_0 = 0 # equilibrium\n",
    "x = 1 \n",
    "v = 0 # velocity\n",
    "F = -k * (x-x_0) # Hooke's Law\n",
    "m = 1 # mass \n",
    "a = F / m # acceleration\n",
    "w = 1 # Frequency\n",
    "\n",
    "N = 1000 # number of steps\n",
    "t = np.linspace(0, 100, N) # timestep\n",
    "dt = t[1] - t[0] \n",
    "\n",
    "positions = np.zeros(N)\n",
    "velocities = np.zeros(N)\n",
    "\n",
    "positions[0] = x # initial position\n",
    "velocities[0] = 0 # initial velocity\n",
    "\n",
    "\n",
    "\n",
    "for i in range(N - 1):\n",
    "    positions[i + 1] = positions[i] + (-w ** 2) * velocities[i] * dt # leapfrog method\n",
    "    velocities[i + 1] = positions[i + 1] * dt + velocities[i] # leapfrog method\n",
    "    #x = x + (v * dt + ((1 / 2) * a * (dt ** 2)))\n",
    "    #F = -k * (x-x_0)\n",
    "    #a_next = (F / m)\n",
    "    #v = v + (dt * (1 / 2) * (a+a_next))\n",
    "    #a = a_next"
   ]
  },
  {
   "cell_type": "code",
   "execution_count": null,
   "metadata": {},
   "outputs": [],
   "source": []
  }
 ],
 "metadata": {
  "kernelspec": {
   "display_name": "Python 3 (ipykernel)",
   "language": "python",
   "name": "python3"
  },
  "language_info": {
   "codemirror_mode": {
    "name": "ipython",
    "version": 3
   },
   "file_extension": ".py",
   "mimetype": "text/x-python",
   "name": "python",
   "nbconvert_exporter": "python",
   "pygments_lexer": "ipython3",
   "version": "3.7.1"
  }
 },
 "nbformat": 4,
 "nbformat_minor": 2
}
